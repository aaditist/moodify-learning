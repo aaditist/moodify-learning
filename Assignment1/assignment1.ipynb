import numpy as np 
import matplotlib.pyplot as plt
import random

def swaprand(array):
	array1 = []
	array2 = []
	for i in range(8):
		x1 = random.randint(0,99)
		y1 = random.randint(0,149)
		x2 = random.randint(0,99)
		y2 = random.randint(0,149)
		temp = array[x1,y1]
		array[x1,y1] = array[x2,y2]
		array[x2,y2] = temp

def modifyfirst(array, i, j):
    first = [(i-1,j-1), (i-1,j), (i-1,j+1), (i,j-1), (i,j+1), (i+1,j-1), (i+1,j), (i+1,j+1)]
    nn =[]
    for x in first:
        if x[0]<0 or x[1]<0 or x[0]>99 or x[1]>149:
            nn.append(x)
    first = [x for x in first if x not in nn]
    for val in first:
    	if array[val[0],val[1]] ==0:
    		array[val[0], val[1]] = random.choices([1,0],[0.25,0.75])[0]

def modifysecond(array,i,j):
    second = [(i-2,j-2), (i-2,j-1), (i-2,j), (i-2,j+1), (i-2,j+2), (i-1,j-2), (i-1,j+2), (i,j-2), (i,j+2), (i+1,j-2), (i+1,j+2),(i+2,j-2), (i+2,j-1), (i+2,j), (i+2,j+1), (i+2,j+2)]
    nn =[]
    for x in second:
        if x[0]<0 or x[1]<0 or x[0]>99 or x[1]>149:
            nn.append(x)
    second = [x for x in second if x not in nn]
    for val in second:
        if array[val[0],val[1]] ==0:
            array[val[0], val[1]] = random.choices([1,0],[0.08,0.92])[0]

