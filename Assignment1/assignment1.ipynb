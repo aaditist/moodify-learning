import numpy as np 
import matplotlib.pyplot as plt
import random

def swaprand(array):
	array1 = []
	array2 = []
	for i in range(8):
		x1 = random.randint(0,99)
		y1 = random.randint(0,149)
		x2 = random.randint(0,99)
		y2 = random.randint(0,149)
		temp = array[x1,y1]
		array[x1,y1] = array[x2,y2]
		array[x2,y2] = temp

def modifyfirst(array, i, j):
    first = [(i-1,j-1), (i-1,j), (i-1,j+1), (i,j-1), (i,j+1), (i+1,j-1), (i+1,j), (i+1,j+1)]
    nn =[]
    for x in first:
        if x[0]<0 or x[1]<0 or x[0]>99 or x[1]>149:
            nn.append(x)
    first = [x for x in first if x not in nn]
    for val in first:
    	if array[val[0],val[1]] ==0:
    		array[val[0], val[1]] = random.choices([1,0],[0.25,0.75])[0]

def modifysecond(array,i,j):
    second = [(i-2,j-2), (i-2,j-1), (i-2,j), (i-2,j+1), (i-2,j+2), (i-1,j-2), (i-1,j+2), (i,j-2), (i,j+2), (i+1,j-2), (i+1,j+2),(i+2,j-2), (i+2,j-1), (i+2,j), (i+2,j+1), (i+2,j+2)]
    nn =[]
    for x in second:
        if x[0]<0 or x[1]<0 or x[0]>99 or x[1]>149:
            nn.append(x)
    second = [x for x in second if x not in nn]
    for val in second:
        if array[val[0],val[1]] ==0:
            array[val[0], val[1]] = random.choices([1,0],[0.08,0.92])[0]

array = np.zeros((100,150), dtype =int)
array[50, 75] = 1
left = True
numof1s = []
iterations = 0
ones  = [1]
newones = [0]
while left:
	left = False
	swaprand(arr)
	for i in range(100):
		for j in range(150):
			if array[i,j]==1:
				numof1s.append((i,j))
			else :
				left = True
	for num in set(numof1s):
		modifyfirst(array, num[0], num[1])
		modifysecond(array, num[0], num[1])
	iterations+=1
	ones.append(len(set(numof1s)))
	newones.append(ones[-1]-ones[-2])
	
x = list(range(iterations+1))
plt.subplot(2,1,1)
plt.plot(x,ones)
plt.xlabel("No.of iterations")
plt.ylabel("No. of ones in the matrix")

plt.subplot(2,1,2)
plt.plot(x,newones)
plt.xlabel("No. of iterations")
plt.ylabel("No. of ones added")

plt.show()
